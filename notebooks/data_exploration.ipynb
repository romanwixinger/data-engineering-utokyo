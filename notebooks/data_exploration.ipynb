{
 "cells": [
  {
   "cell_type": "markdown",
   "id": "b5b2ba97",
   "metadata": {},
   "source": [
    "# Data exploration for joining all data sources"
   ]
  },
  {
   "cell_type": "markdown",
   "id": "c611ee33",
   "metadata": {},
   "source": [
    "In this notebook we develop the functions for retrieving the tables, preparing them for the join, and then combining them based on the timestamp. "
   ]
  },
  {
   "cell_type": "markdown",
   "id": "17f28370",
   "metadata": {},
   "source": [
    "## Imports"
   ]
  },
  {
   "cell_type": "code",
   "execution_count": 4,
   "id": "e0c308a1",
   "metadata": {},
   "outputs": [],
   "source": [
    "import pandas as pd\n",
    "import numpy as np"
   ]
  },
  {
   "cell_type": "markdown",
   "id": "b6deb4d2",
   "metadata": {},
   "source": [
    "## Sources"
   ]
  },
  {
   "cell_type": "code",
   "execution_count": null,
   "id": "884a5e11",
   "metadata": {},
   "outputs": [],
   "source": [
    "all_data_table = pd.read_csv(filepath_or_buffer=\"\")"
   ]
  }
 ],
 "metadata": {
  "kernelspec": {
   "display_name": "Python 3 (ipykernel)",
   "language": "python",
   "name": "python3"
  },
  "language_info": {
   "codemirror_mode": {
    "name": "ipython",
    "version": 3
   },
   "file_extension": ".py",
   "mimetype": "text/x-python",
   "name": "python",
   "nbconvert_exporter": "python",
   "pygments_lexer": "ipython3",
   "version": "3.9.7"
  }
 },
 "nbformat": 4,
 "nbformat_minor": 5
}
