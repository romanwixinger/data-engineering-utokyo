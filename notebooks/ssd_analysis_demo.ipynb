{
 "cells": [
  {
   "cell_type": "markdown",
   "id": "0ee08a48",
   "metadata": {},
   "source": [
    "# SSD Analysis Demo\n",
    "In this notebook we demonstrate how to find peaks in the SSD signal. "
   ]
  },
  {
   "cell_type": "markdown",
   "id": "a0b01a3c",
   "metadata": {},
   "source": [
    "## Imports"
   ]
  },
  {
   "cell_type": "code",
   "execution_count": null,
   "id": "abee49e6",
   "metadata": {},
   "outputs": [],
   "source": [
    "import sys\n",
    "sys.path.insert(0,'../..')  # Set src as top-level"
   ]
  },
  {
   "cell_type": "code",
   "execution_count": null,
   "id": "64fd10d3",
   "metadata": {},
   "outputs": [],
   "source": [
    "from src.recorders.ssd_recorder import SSDRecorder\n",
    "from src.analyses.ssd_analysis import SSDAnalysis\n",
    "from src.analyses.analysis import ResultParameter"
   ]
  },
  {
   "cell_type": "code",
   "execution_count": null,
   "id": "fd1d27ac",
   "metadata": {},
   "outputs": [],
   "source": [
    "# Relative path to data\n",
    "rel_path = \"../../data/20220829/\""
   ]
  },
  {
   "cell_type": "markdown",
   "id": "946b5088",
   "metadata": {},
   "source": [
    "## Setup Recorder\n",
    "We create a recorder that tracks the SSD data for us."
   ]
  },
  {
   "cell_type": "code",
   "execution_count": null,
   "id": "5575ee75",
   "metadata": {},
   "outputs": [],
   "source": [
    "ssd_recorder = SSDRecorder(filepath=rel_path + \"-20220829-144945-Slot1-In1.csv\")"
   ]
  },
  {
   "cell_type": "code",
   "execution_count": null,
   "id": "3f67f4d7",
   "metadata": {},
   "outputs": [],
   "source": [
    "ssd_recorder.get_table().head(5)"
   ]
  },
  {
   "cell_type": "markdown",
   "id": "233dbbc1",
   "metadata": {},
   "source": [
    "## Prepare plotting"
   ]
  },
  {
   "cell_type": "code",
   "execution_count": null,
   "id": "3be3b97b",
   "metadata": {},
   "outputs": [],
   "source": [
    "# Path were the plots should go\n",
    "image_src = \"../../plots/demo/\"\n",
    "\n",
    "# Path were the result (csv file) should go\n",
    "result_filepath = \"../../results/demo/\"\n",
    "\n",
    "# Image type\n",
    "image_extension = \".png\"\n",
    "\n",
    "# Setup object\n",
    "result_param = ResultParameter(\n",
    "            image_src=image_src, \n",
    "            image_extension=image_extension,\n",
    "            result_filepath=result_filepath+\"ssd_analysis_results.csv\"\n",
    "            )"
   ]
  },
  {
   "cell_type": "markdown",
   "id": "e0919e25",
   "metadata": {},
   "source": [
    "## Perform analysis"
   ]
  },
  {
   "cell_type": "code",
   "execution_count": null,
   "id": "58fbfa66",
   "metadata": {},
   "outputs": [],
   "source": [
    "ssd_analysis = SSDAnalysis(recorder=ssd_recorder, result_param=result_param)"
   ]
  },
  {
   "cell_type": "code",
   "execution_count": null,
   "id": "0be5fd7d",
   "metadata": {},
   "outputs": [],
   "source": [
    "result_df = ssd_analysis.run()"
   ]
  },
  {
   "cell_type": "code",
   "execution_count": null,
   "id": "a61d1146",
   "metadata": {},
   "outputs": [],
   "source": [
    "result_df"
   ]
  },
  {
   "cell_type": "code",
   "execution_count": null,
   "id": "2f99ba1e",
   "metadata": {},
   "outputs": [],
   "source": []
  }
 ],
 "metadata": {
  "kernelspec": {
   "display_name": "Python 3 (ipykernel)",
   "language": "python",
   "name": "python3"
  },
  "language_info": {
   "codemirror_mode": {
    "name": "ipython",
    "version": 3
   },
   "file_extension": ".py",
   "mimetype": "text/x-python",
   "name": "python",
   "nbconvert_exporter": "python",
   "pygments_lexer": "ipython3",
   "version": "3.9.7"
  }
 },
 "nbformat": 4,
 "nbformat_minor": 5
}
